{
 "cells": [
  {
   "cell_type": "markdown",
   "id": "b25d5e65",
   "metadata": {},
   "source": [
    "Retrieval and Chain using Langchain"
   ]
  },
  {
   "cell_type": "code",
   "execution_count": 1,
   "id": "04528aed",
   "metadata": {},
   "outputs": [],
   "source": [
    "from langchain_community.document_loaders import PyPDFLoader\n",
    "\n",
    "loader = PyPDFLoader(\"attention.pdf\")\n",
    "docs = loader.load()\n"
   ]
  },
  {
   "cell_type": "code",
   "execution_count": 2,
   "id": "bd37f47b",
   "metadata": {},
   "outputs": [],
   "source": [
    "from langchain_text_splitters import RecursiveCharacterTextSplitter\n",
    "\n",
    "text_splitter = RecursiveCharacterTextSplitter(chunk_size=1000,chunk_overlap=200)\n",
    "documents = text_splitter.split_documents(docs)"
   ]
  },
  {
   "cell_type": "code",
   "execution_count": 7,
   "id": "ae1e7f7b",
   "metadata": {},
   "outputs": [
    {
     "name": "stderr",
     "output_type": "stream",
     "text": [
      "E0000 00:00:1758827385.626881   85434 alts_credentials.cc:93] ALTS creds ignored. Not running on GCP and untrusted ALTS is not enabled.\n",
      "E0000 00:00:1758827385.627322   85434 alts_credentials.cc:93] ALTS creds ignored. Not running on GCP and untrusted ALTS is not enabled.\n"
     ]
    }
   ],
   "source": [
    "from langchain_google_genai import GoogleGenerativeAIEmbeddings\n",
    "from langchain_community.vectorstores import Chroma\n",
    "\n",
    "embeddings = GoogleGenerativeAIEmbeddings(model = \"models/gemini-embedding-001\")\n",
    "db = Chroma.from_documents(documents[0:30],embeddings)\n"
   ]
  },
  {
   "cell_type": "code",
   "execution_count": 11,
   "id": "e5cfee13",
   "metadata": {},
   "outputs": [
    {
     "name": "stderr",
     "output_type": "stream",
     "text": [
      "E0000 00:00:1758827826.966497   85434 alts_credentials.cc:93] ALTS creds ignored. Not running on GCP and untrusted ALTS is not enabled.\n"
     ]
    }
   ],
   "source": [
    "from langchain_google_genai import ChatGoogleGenerativeAI\n",
    "from dotenv import load_dotenv\n",
    "load_dotenv()\n",
    "import os\n",
    "\n",
    "google_api_key = os.getenv(\"GOOGLE_API_KEY\")\n",
    "if google_api_key is not None:\n",
    "    os.environ[\"GOOGLE_API_KEY\"] = google_api_key\n",
    "\n",
    "llm = ChatGoogleGenerativeAI(\n",
    "    model=\"gemini-2.5-flash\",\n",
    "    temperature=0,\n",
    "    max_tokens=None,\n",
    "    timeout=None,\n",
    "    max_retries=2,\n",
    "    # other params...\n",
    ")"
   ]
  },
  {
   "cell_type": "code",
   "execution_count": 8,
   "id": "999a9c32",
   "metadata": {},
   "outputs": [],
   "source": [
    "query = \"What are transformers\""
   ]
  },
  {
   "cell_type": "code",
   "execution_count": 9,
   "id": "b7b1eaa3",
   "metadata": {},
   "outputs": [
    {
     "data": {
      "text/plain": [
       "'aligned RNNs or convolution. In the following sections, we will describe the Transformer, motivate\\nself-attention and discuss its advantages over models such as [14, 15] and [8].\\n3 Model Architecture\\nMost competitive neural sequence transduction models have an encoder-decoder structure [5, 2, 29].\\nHere, the encoder maps an input sequence of symbol representations (x1,...,x n) to a sequence\\nof continuous representations z = (z1,...,z n). Given z, the decoder then generates an output\\nsequence (y1,...,y m) of symbols one element at a time. At each step the model is auto-regressive\\n[9], consuming the previously generated symbols as additional input when generating the next.\\nThe Transformer follows this overall architecture using stacked self-attention and point-wise, fully\\nconnected layers for both the encoder and decoder, shown in the left and right halves of Figure 1,\\nrespectively.\\n3.1 Encoder and Decoder Stacks'"
      ]
     },
     "execution_count": 9,
     "metadata": {},
     "output_type": "execute_result"
    }
   ],
   "source": [
    "result=db.similarity_search(query)\n",
    "result[0].page_content"
   ]
  },
  {
   "cell_type": "code",
   "execution_count": 10,
   "id": "0b5e9b17",
   "metadata": {},
   "outputs": [],
   "source": [
    "from langchain_core.prompts import ChatPromptTemplate\n",
    "\n",
    "prompt = ChatPromptTemplate.from_template(\"\"\"\n",
    "Answer the following question based only on the provided context.\n",
    "Think step by step before providing a detailed answer. \n",
    "I will tip you $1000 if the user finds the answer helpful. \n",
    "<context>\n",
    "                                          {context}\n",
    "                                          </context>\n",
    "Question: {input}\n",
    "\"\"\")"
   ]
  },
  {
   "cell_type": "code",
   "execution_count": 12,
   "id": "27e5aca0",
   "metadata": {},
   "outputs": [],
   "source": [
    "from langchain.chains.combine_documents import create_stuff_documents_chain\n",
    "\n",
    "document_chain = create_stuff_documents_chain(llm,prompt)"
   ]
  },
  {
   "cell_type": "code",
   "execution_count": 13,
   "id": "2fb5fa87",
   "metadata": {},
   "outputs": [
    {
     "data": {
      "text/plain": [
       "VectorStoreRetriever(tags=['Chroma', 'GoogleGenerativeAIEmbeddings'], vectorstore=<langchain_community.vectorstores.chroma.Chroma object at 0x71d6900e16d0>, search_kwargs={})"
      ]
     },
     "execution_count": 13,
     "metadata": {},
     "output_type": "execute_result"
    }
   ],
   "source": [
    "## Retrievers are used to import information. It does not store information as in vectors\n",
    "## Learn more about it.\n",
    "retriever = db.as_retriever()\n",
    "retriever"
   ]
  },
  {
   "cell_type": "code",
   "execution_count": 14,
   "id": "9e542101",
   "metadata": {},
   "outputs": [],
   "source": [
    "##Retrieval chain\n",
    "\n",
    "from langchain.chains import create_retrieval_chain\n",
    "\n",
    "retrieval_chain = create_retrieval_chain(retriever,document_chain)"
   ]
  },
  {
   "cell_type": "code",
   "execution_count": 19,
   "id": "d371ebcc",
   "metadata": {},
   "outputs": [],
   "source": [
    "response=retrieval_chain.invoke({\"input\":\"Scaled dot product attention\"})"
   ]
  },
  {
   "cell_type": "code",
   "execution_count": 20,
   "id": "437fa8e3",
   "metadata": {},
   "outputs": [
    {
     "data": {
      "text/plain": [
       "'Based on the provided context, here is a detailed explanation of Scaled Dot-Product Attention:\\n\\nScaled Dot-Product Attention is a specific type of attention mechanism.\\n\\n1.  **Computation Process:**\\n    *   It involves computing the dot product of a query with all keys.\\n    *   Each of these dot products is then divided by a scaling factor of $\\\\sqrt{d_k}$.\\n    *   A softmax function is applied to these scaled dot products to obtain the weights on the values.\\n    *   In practice, for a set of queries (matrix Q), keys (matrix K), and values (matrix V), the output matrix is computed using the formula:\\n        $Attention(Q,K,V ) = softmax(\\\\frac{Q K^T}{\\\\sqrt{d_k}})V$\\n\\n2.  **Relationship to Other Attention Functions:**\\n    *   It is one of the two most commonly used attention functions, the other being additive attention.\\n    *   **Dot-Product (Multiplicative) Attention:** Scaled Dot-Product Attention is identical to dot-product attention, *except* for the scaling factor of $\\\\frac{1}{\\\\sqrt{d_k}}$.\\n    *   **Additive Attention:** Unlike additive attention, which computes the compatibility function using a feed-forward network with a single hidden layer, Scaled Dot-Product Attention uses dot products.\\n\\n3.  **Practical Advantages (of Dot-Product Attention, which Scaled Dot-Product Attention is a variant of):**\\n    *   While similar in theoretical complexity to additive attention, dot-product attention is much faster and more space-efficient in practice.\\n    *   This efficiency stems from its ability to be implemented using highly optimized matrix multiplication code.\\n\\n4.  **Reason for Scaling:**\\n    *   For small values of $d_k$, additive attention and dot-product attention perform similarly. However, for larger values of $d_k$, additive attention outperforms dot-product attention *without* scaling.\\n    *   The scaling factor of $\\\\frac{1}{\\\\sqrt{d_k}}$ is introduced to counteract a specific problem: for large values of $d_k$, the dot products tend to grow large in magnitude. This can push the softmax function into regions where it has extremely small gradients, which can hinder learning.\\n    *   By scaling the dot products by $\\\\frac{1}{\\\\sqrt{d_k}}$, this effect is mitigated.'"
      ]
     },
     "execution_count": 20,
     "metadata": {},
     "output_type": "execute_result"
    }
   ],
   "source": [
    "response['answer']"
   ]
  }
 ],
 "metadata": {
  "kernelspec": {
   "display_name": "Langchainvenv (3.12.3)",
   "language": "python",
   "name": "python3"
  },
  "language_info": {
   "codemirror_mode": {
    "name": "ipython",
    "version": 3
   },
   "file_extension": ".py",
   "mimetype": "text/x-python",
   "name": "python",
   "nbconvert_exporter": "python",
   "pygments_lexer": "ipython3",
   "version": "3.12.3"
  }
 },
 "nbformat": 4,
 "nbformat_minor": 5
}
